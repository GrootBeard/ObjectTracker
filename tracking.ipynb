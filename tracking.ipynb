{
 "cells": [
  {
   "cell_type": "code",
   "execution_count": null,
   "metadata": {},
   "outputs": [],
   "source": [
    "import matplotlib.pyplot as plt\n",
    "import numpy as np\n",
    "\n",
    "from tracking.filters.jipdaf import PDA, Track, build_clusters, track_betas\n",
    "from tracking.filters.dynamics_models import DefaultDynamicsPV2D, DefaultDynamicsPVA2D\n",
    "from tracking.util.interpolator import LinearInterpolator, NodeCollection, SplineInterpolator\n",
    "from tracking.util.metrics import RadarGenerator, Scan, TrackLog, PoissonClutter\n",
    "from tracking.util.path import Path2D, PathFactory\n",
    "from tracking.visualizer import TrackVisualizer\n",
    "from tracking.filters.track_manager import TrackManager, TrackingVisualizer\n",
    "\n",
    "%load_ext autoreload\n",
    "%autoreload 2\n",
    "\n",
    "TMAX = 500"
   ]
  },
  {
   "cell_type": "code",
   "execution_count": null,
   "metadata": {},
   "outputs": [],
   "source": [
    "nodes = [\n",
    "    NodeCollection(np.array([[-400, -400],  [400, -400]]), [0, TMAX]),\n",
    "    NodeCollection(np.array([[-400, -375],  [400, -375]]), [0, TMAX]),\n",
    "    #NodeCollection(np.array([[-400, -200],  [400, -200]]), [0, TMAX]),\n",
    "    #NodeCollection(np.array([[-400, -100],  [400, -100]]), [0, TMAX]),\n",
    "    NodeCollection(np.array([[-400, -0],  [400, -0]]), [0, TMAX]),\n",
    "    #NodeCollection(np.array([[-400, 100],  [400, 100]]), [0, TMAX]),\n",
    "    NodeCollection(np.array([[-400, 200],  [400, 200]]), [0, TMAX]),\n",
    "    #NodeCollection(np.array([[-400, 300],  [400, 300]]), [0, TMAX]),\n",
    "    #NodeCollection(np.array([[-400, 400],  [400, 400]]), [0, TMAX]),\n",
    "]\n",
    "\n",
    "factory=PathFactory()\n",
    "paths=factory.create(nodes, LinearInterpolator)"
   ]
  },
  {
   "cell_type": "code",
   "execution_count": null,
   "metadata": {},
   "outputs": [],
   "source": [
    "\n",
    "nodes = [\n",
    "    NodeCollection(np.array([[-400, 100],  [400, -100]]), [0, TMAX]),\n",
    "]\n",
    "\n",
    "node = NodeCollection(np.array(\n",
    "    [[-400, -100], [-200, 25], [0, 0], [200, -25], [400, 100]]), np.linspace(0, TMAX, 5))\n",
    "node2 = NodeCollection(np.array(\n",
    "    [[400, 100], [200, -25], [0, 0], [-200, 25], [-400, -100]]), np.linspace(0, TMAX, 5))\n",
    "node3 = NodeCollection(np.array(\n",
    "    [[200, 300], [200, -25], [10, 5], [-200, 35], [-400, -100]]), np.linspace(0, TMAX, 5))\n",
    "factory = PathFactory()\n",
    "paths = factory.create(nodes, LinearInterpolator)\n",
    "paths += factory.create([node, node2, node3], SplineInterpolator)\n",
    "\n",
    "paths += factory.create([\n",
    "    NodeCollection(np.array([\n",
    "        [-400, 400], [-200, 300], [0, 400], [200, 300], [400, 200]\n",
    "    ]), np.linspace(0, TMAX, 5)),\n",
    "\n",
    "    NodeCollection(np.array([\n",
    "        [-200, 300], [-100, 100], [0, 400], [200, 300], [400, 200]\n",
    "    ]), np.linspace(0, TMAX, 5)),\n",
    "\n",
    "    NodeCollection(np.array([\n",
    "        [-200, 300], [-100, 180], [0, 400], [200, 300], [400, 200]\n",
    "    ]), np.linspace(0, TMAX, 5)),\n",
    "\n",
    "    NodeCollection(np.array([\n",
    "        [200, 300], [100, 180], [0, 400], [-200, -300], [-400, -200]\n",
    "    ]), np.linspace(100, TMAX, 5)),\n",
    "], SplineInterpolator)"
   ]
  },
  {
   "cell_type": "code",
   "execution_count": null,
   "metadata": {},
   "outputs": [],
   "source": [
    "nprobes = 200\n",
    "probexy = np.zeros(nprobes)\n",
    "probetimes = np.linspace(0.0, TMAX-0.1, nprobes)\n",
    "radar = RadarGenerator(paths, 0.6, 1)\n",
    "clutter_model = PoissonClutter([-400, 400, -220, 450], 1e-4)\n",
    "scans = radar.make_scans_series(\n",
    "    np.array([probetimes, probexy, probexy]).T, clutter_model)"
   ]
  },
  {
   "cell_type": "code",
   "execution_count": null,
   "metadata": {},
   "outputs": [],
   "source": [
    "\n",
    "manager = TrackManager(DefaultDynamicsPVA2D())\n",
    "\n",
    "nsteps = 60000\n",
    "time = 0\n",
    "dt = 0.05\n",
    "\n",
    "working_scans = scans.copy()\n",
    "\n",
    "for _ in range(nsteps):\n",
    "    time += dt\n",
    "\n",
    "    manager.predict_tracks(time, dt)\n",
    "\n",
    "    if time+dt >= working_scans[0].time:\n",
    "        time = working_scans[0].time\n",
    "\n",
    "        manager.update_tracks(working_scans[0], time)\n",
    "        manager.one_point_init(vmax=5, p0=0.25, disable_clutter_tracks=False)\n",
    "        manager.delete_false_tracks(.005)\n",
    "\n",
    "        working_scans.pop(0)\n",
    "        if len(working_scans) == 0:\n",
    "            print(\"Processed all scans\")\n",
    "            break"
   ]
  },
  {
   "cell_type": "code",
   "execution_count": null,
   "metadata": {},
   "outputs": [],
   "source": [
    "%autoreload 2\n",
    "%matplotlib qt \n",
    "\n",
    "renderer = TrackingVisualizer(manager.logger)\n",
    "plt.ion()\n",
    "plt.figure()\n",
    "plot = plt.subplot(1, 2, 1)\n",
    "    \n",
    "plot2 = plt.subplot(1, 2, 2)\n",
    "renderer.filter_tracks_by_length(7)\n",
    "renderer.render_epochs_in_range(plot2, -1, -1)\n",
    "# renderer.set_number_rendered_epochs(0)\n",
    "# renderer.render(plot2)\n",
    "\n",
    "renderer.set_number_rendered_epochs(25)\n",
    "renderer.clear_filter()\n",
    "renderer.filter_tracks_by_length(7)\n",
    "\n",
    "i = 0\n",
    "render_interval = 3\n",
    "\n",
    "while renderer.advance_epoch():\n",
    "    i += 1\n",
    "    if i % render_interval != 0:\n",
    "        continue\n",
    "    plot.cla()\n",
    "\n",
    "    plot.set_ylim(-450, 450)\n",
    "    plot.set_xlim(-450, 450)\n",
    "\n",
    "    #renderer.render_measurements(plot)\n",
    "    renderer.render(plot)\n",
    "    plt.show(block=False)\n",
    "    plt.pause(0.0001)\n"
   ]
  },
  {
   "cell_type": "code",
   "execution_count": null,
   "metadata": {},
   "outputs": [],
   "source": [
    "track_lengths = manager.logger.track_lengths()\n",
    "track_lengths_filtered = manager.logger.display_track_lengths(5)\n",
    "\n",
    "for t in track_lengths_filtered:\n",
    "    exst_prob_hist = manager.logger.track_existence_probability_history(t)\n",
    "    plt.plot(exst_prob_hist)\n",
    "\n",
    "plt.show()"
   ]
  },
  {
   "cell_type": "code",
   "execution_count": null,
   "metadata": {},
   "outputs": [],
   "source": [
    "track_uid = 696\n",
    "plt.figure()\n",
    "ms_plot = plt.subplot(2, 2, (1))\n",
    "plt.grid(True)\n",
    "measurements_data = manager.logger.track_selected_measurements_history(track_uid)\n",
    "line1, = ms_plot.plot([ep['num_actual_measurements'] for ep in measurements_data.values()], label='actual')\n",
    "line2, = ms_plot.plot([ep['num_clutter_measurements'] for ep in measurements_data.values()], label='clutter')\n",
    "plt.legend(['actual', 'clutter'])\n",
    "exst_plot = plt.subplot(2, 2, (3))\n",
    "plt.grid(True)\n",
    "track_plot = plt.subplot(2, 2, (2,4))\n",
    "plt.show()\n",
    "\n",
    "exst_plot.plot(manager.logger.track_existence_probability_history(track_uid))\n",
    "renderer.render_track(track_plot, track_uid)\n",
    "plt.show()\n"
   ]
  },
  {
   "cell_type": "code",
   "execution_count": null,
   "metadata": {},
   "outputs": [],
   "source": [
    "plt.hist(track_lengths, bins=200);\n",
    "plt.show()"
   ]
  },
  {
   "cell_type": "code",
   "execution_count": null,
   "metadata": {},
   "outputs": [],
   "source": [
    "plt.figure()\n",
    "for path in paths:\n",
    "    trange = np.linspace(path.t_min, path.t_max, 300)\n",
    "    acc = [path.acc(t) for t in trange]\n",
    "    plt.plot(acc)"
   ]
  },
  {
   "cell_type": "code",
   "execution_count": null,
   "metadata": {},
   "outputs": [],
   "source": []
  }
 ],
 "metadata": {
  "kernelspec": {
   "display_name": "Python 3 (ipykernel)",
   "language": "python",
   "name": "python3"
  },
  "language_info": {
   "codemirror_mode": {
    "name": "ipython",
    "version": 3
   },
   "file_extension": ".py",
   "mimetype": "text/x-python",
   "name": "python",
   "nbconvert_exporter": "python",
   "pygments_lexer": "ipython3",
   "version": "3.10.4"
  },
  "orig_nbformat": 4,
  "vscode": {
   "interpreter": {
    "hash": "e7370f93d1d0cde622a1f8e1c04877d8463912d04d973331ad4851f04de6915a"
   }
  }
 },
 "nbformat": 4,
 "nbformat_minor": 2
}
