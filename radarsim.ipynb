{
 "cells": [
  {
   "cell_type": "code",
   "execution_count": 21,
   "metadata": {},
   "outputs": [
    {
     "name": "stdout",
     "output_type": "stream",
     "text": [
      "The autoreload extension is already loaded. To reload it, use:\n",
      "  %reload_ext autoreload\n"
     ]
    }
   ],
   "source": [
    "%load_ext autoreload\n",
    "from path import Path2D\n",
    "from interpolator import LinearInterpolator\n",
    "\n",
    "import numpy as np\n",
    "import matplotlib.pyplot as plt\n"
   ]
  },
  {
   "cell_type": "code",
   "execution_count": 318,
   "metadata": {},
   "outputs": [
    {
     "ename": "SyntaxError",
     "evalue": "invalid syntax (3096932518.py, line 7)",
     "output_type": "error",
     "traceback": [
      "\u001b[0;36m  Input \u001b[0;32mIn [318]\u001b[0;36m\u001b[0m\n\u001b[0;31m    x = 0.05*time**3/3 a*time**2 / 2+ v0 *time\u001b[0m\n\u001b[0m                       ^\u001b[0m\n\u001b[0;31mSyntaxError\u001b[0m\u001b[0;31m:\u001b[0m invalid syntax\n"
     ]
    }
   ],
   "source": [
    "%autoreload 2\n",
    "N = 100\n",
    "tmax = 30\n",
    "time = np.linspace(0, tmax, N)\n",
    "a = 0.3\n",
    "v0 = -3\n",
    "x = 0.05*time**3/3 +a*time**2 / 2+ v0 *time\n",
    "y = v0*time\n",
    "plt.scatter(x, y)\n",
    "# plt.scatter(-x, y)\n",
    "\n",
    "# plt.plot(time, time + np.sin(time * 8*np.pi/tmax))\n",
    "\n",
    "nodes = np.array([x, y]).T\n",
    "nodes2 = np.array([np.linspace(-1, 1,50), np.linspace(0.2, -1,50)]).T\n",
    "print(nodes.shape)\n",
    "path = Path2D(tmax, nodes, LinearInterpolator)\n",
    "path2 = Path2D(tmax, nodes2, LinearInterpolator)\n",
    "print(path.__str__())\n"
   ]
  },
  {
   "cell_type": "code",
   "execution_count": 240,
   "metadata": {},
   "outputs": [
    {
     "name": "stdout",
     "output_type": "stream",
     "text": [
      "(150, 2)\n"
     ]
    },
    {
     "data": {
      "text/plain": [
       "[<matplotlib.lines.Line2D at 0x7f84a1738340>]"
      ]
     },
     "execution_count": 240,
     "metadata": {},
     "output_type": "execute_result"
    }
   ],
   "source": [
    "data = np.array([path.pos(t) for t in np.linspace(0, 1, 150)])\n",
    "data2 = np.array([path2.pos(t) for t in np.linspace(0, 1, 150)])\n",
    "vel_data = np.array([path.vel(t) for t in np.linspace(0, 1, 150)])\n",
    "print(data.shape)\n",
    "plt.figure()\n",
    "plt.subplot(2,1,1)\n",
    "plt.plot(data[:,0], data[:,1])\n",
    "plt.plot(data2[:,0], data2[:,1])\n",
    "plt.subplot(2,1,2)\n",
    "plt.plot(vel_data[:-5,0], 'r')\n",
    "plt.plot(vel_data[:-5,1], 'g')\n",
    "plt.plot(np.sqrt(vel_data[:-5,0]**2 + vel_data[:-5,1]**2), 'b')"
   ]
  },
  {
   "cell_type": "code",
   "execution_count": 315,
   "metadata": {},
   "outputs": [
    {
     "data": {
      "text/plain": [
       "<matplotlib.collections.PathCollection at 0x7f848e62aee0>"
      ]
     },
     "execution_count": 315,
     "metadata": {},
     "output_type": "execute_result"
    }
   ],
   "source": [
    "from radar import RadarGenerator\n",
    "\n",
    "# probes = [[0.2, 0, 0], [0.6, 0.2, 0], [0.8, 0.2, 0], [0.9, 0.2, 0]]\n",
    "nprobes = 60\n",
    "probex = np.linspace(-0.5, 0.5, nprobes)\n",
    "probey = np.linspace(-0.2, 0.1, nprobes)\n",
    "probetimes = np.linspace(0, 30, nprobes)\n",
    "probes = np.array([probetimes, probex, probey]).T\n",
    "\n",
    "radarGen = RadarGenerator([path], 0.5, 1)\n",
    "measurements = radarGen.make_measurement_series(probes)\n",
    "\n",
    "msdata = np.array([[ms.x, ms.y] for ms in measurements])\n",
    "plt.figure()\n",
    "# plt.subplot(2,1,1)\n",
    "plt.scatter(msdata[:,0], msdata[:,1])\n",
    "# plt.plot(probex, probey)\n",
    "# plt.subplot(2,1,2)\n",
    "# plt.scatter(probetimes,[ms.vr for ms in measurements])"
   ]
  },
  {
   "cell_type": "code",
   "execution_count": 317,
   "metadata": {},
   "outputs": [
    {
     "data": {
      "text/plain": [
       "<matplotlib.collections.PathCollection at 0x7f848e2dc910>"
      ]
     },
     "execution_count": 317,
     "metadata": {},
     "output_type": "execute_result"
    }
   ],
   "source": [
    "from filters.kalman import KalmanFilter\n",
    "import copy\n",
    "\n",
    "%matplotlib qt\n",
    "\n",
    "kf = KalmanFilter(np.array([0, 0, 0, 0, 0, 0]), 0.5)\n",
    "\n",
    "dt = 0.2\n",
    "T = 28\n",
    "steps = int(T / dt)\n",
    "\n",
    "P_k = []\n",
    "x_k = []\n",
    "msrmts = copy.deepcopy(measurements)\n",
    "for i in range(steps):\n",
    "    P_k.append(kf.cov)\n",
    "    x_k.append(kf.prediction)\n",
    "\n",
    "    kf.predict(dt)\n",
    "    if i*dt > msrmts[0].t:\n",
    "        kf.update(np.array([msrmts[0].x, msrmts[0].y]), 2, 5)\n",
    "        msrmts.pop(0)\n",
    "        # print('updated')\n",
    "\n",
    "msdata = np.array([[ms.x, ms.y] for ms in measurements])\n",
    "x = np.array(x_k)[:,0]\n",
    "y = np.array(x_k)[:,3]\n",
    "plt.scatter(x,y, color='red')\n",
    "plt.scatter(msdata[:,0], msdata[:,1], color='blue')\n",
    "    "
   ]
  },
  {
   "cell_type": "code",
   "execution_count": null,
   "metadata": {},
   "outputs": [],
   "source": []
  }
 ],
 "metadata": {
  "kernelspec": {
   "display_name": "Python 3.8.10 ('venv')",
   "language": "python",
   "name": "python3"
  },
  "language_info": {
   "codemirror_mode": {
    "name": "ipython",
    "version": 3
   },
   "file_extension": ".py",
   "mimetype": "text/x-python",
   "name": "python",
   "nbconvert_exporter": "python",
   "pygments_lexer": "ipython3",
   "version": "3.8.10"
  },
  "orig_nbformat": 4,
  "vscode": {
   "interpreter": {
    "hash": "427ba7c3489430af1ebb774cd5c90a271fb970d0790804f62f670d1e7d211a7f"
   }
  }
 },
 "nbformat": 4,
 "nbformat_minor": 2
}
