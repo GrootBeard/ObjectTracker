{
 "cells": [
  {
   "cell_type": "code",
   "execution_count": 2,
   "metadata": {},
   "outputs": [],
   "source": [
    "%load_ext autoreload\n",
    "from path import Path2D\n",
    "from interpolator import LinearInterpolator, NodeCollection, SplineInterpolator\n",
    "\n",
    "import numpy as np\n",
    "import matplotlib.pyplot as plt\n"
   ]
  },
  {
   "cell_type": "code",
   "execution_count": 2,
   "metadata": {},
   "outputs": [],
   "source": [
    "%autoreload 2\n",
    "N = 100\n",
    "x = np.linspace(0, 100, N)\n",
    "y = np.ones(N)*30\n",
    "t = np.linspace(0, 100, len(x))\n",
    "tmax = t[-1]\n",
    "\n",
    "nodes = NodeCollection(np.array([x, y]).T, t)\n",
    "path = Path2D(nodes, SplineInterpolator)\n",
    "\n",
    "nodes2 = NodeCollection(np.array([x, -y]).T, t)\n",
    "path2 = Path2D(nodes2, LinearInterpolator)\n"
   ]
  },
  {
   "cell_type": "code",
   "execution_count": 6,
   "metadata": {},
   "outputs": [
    {
     "ename": "AttributeError",
     "evalue": "'Scan' object has no attribute 'x'",
     "output_type": "error",
     "traceback": [
      "\u001b[0;31m---------------------------------------------------------------------------\u001b[0m",
      "\u001b[0;31mAttributeError\u001b[0m                            Traceback (most recent call last)",
      "\u001b[1;32m/home/lucas/Documents/DanaDynamics/python/RadarSimulator/radarsim.ipynb Cell 3'\u001b[0m in \u001b[0;36m<cell line: 11>\u001b[0;34m()\u001b[0m\n\u001b[1;32m      <a href='vscode-notebook-cell:/home/lucas/Documents/DanaDynamics/python/RadarSimulator/radarsim.ipynb#ch0000002?line=8'>9</a>\u001b[0m radarGen \u001b[39m=\u001b[39m RadarGenerator([path, path2], \u001b[39m0.1\u001b[39m, \u001b[39m1\u001b[39m)\n\u001b[1;32m     <a href='vscode-notebook-cell:/home/lucas/Documents/DanaDynamics/python/RadarSimulator/radarsim.ipynb#ch0000002?line=9'>10</a>\u001b[0m measurements \u001b[39m=\u001b[39m radarGen\u001b[39m.\u001b[39mmake_measurement_series(probes)\n\u001b[0;32m---> <a href='vscode-notebook-cell:/home/lucas/Documents/DanaDynamics/python/RadarSimulator/radarsim.ipynb#ch0000002?line=10'>11</a>\u001b[0m msdata \u001b[39m=\u001b[39m np\u001b[39m.\u001b[39marray([[ms\u001b[39m.\u001b[39mx, ms\u001b[39m.\u001b[39my] \u001b[39mfor\u001b[39;00m ms \u001b[39min\u001b[39;00m measurements])\n",
      "\u001b[1;32m/home/lucas/Documents/DanaDynamics/python/RadarSimulator/radarsim.ipynb Cell 3'\u001b[0m in \u001b[0;36m<listcomp>\u001b[0;34m(.0)\u001b[0m\n\u001b[1;32m      <a href='vscode-notebook-cell:/home/lucas/Documents/DanaDynamics/python/RadarSimulator/radarsim.ipynb#ch0000002?line=8'>9</a>\u001b[0m radarGen \u001b[39m=\u001b[39m RadarGenerator([path, path2], \u001b[39m0.1\u001b[39m, \u001b[39m1\u001b[39m)\n\u001b[1;32m     <a href='vscode-notebook-cell:/home/lucas/Documents/DanaDynamics/python/RadarSimulator/radarsim.ipynb#ch0000002?line=9'>10</a>\u001b[0m measurements \u001b[39m=\u001b[39m radarGen\u001b[39m.\u001b[39mmake_measurement_series(probes)\n\u001b[0;32m---> <a href='vscode-notebook-cell:/home/lucas/Documents/DanaDynamics/python/RadarSimulator/radarsim.ipynb#ch0000002?line=10'>11</a>\u001b[0m msdata \u001b[39m=\u001b[39m np\u001b[39m.\u001b[39marray([[ms\u001b[39m.\u001b[39;49mx, ms\u001b[39m.\u001b[39my] \u001b[39mfor\u001b[39;00m ms \u001b[39min\u001b[39;00m measurements])\n",
      "\u001b[0;31mAttributeError\u001b[0m: 'Scan' object has no attribute 'x'"
     ]
    }
   ],
   "source": [
    "from metrics import RadarGenerator\n",
    "\n",
    "nprobes = 200\n",
    "probex = np.linspace(0, 0, nprobes)\n",
    "probey = np.linspace(0, 0, nprobes)\n",
    "probetimes = np.linspace(0.1, tmax, nprobes)\n",
    "probes = np.array([probetimes, probex, probey]).T\n",
    "\n",
    "radarGen = RadarGenerator([path, path2], 0.1, 1)\n",
    "measurements = radarGen.make_measurement_series(probes)\n",
    "# msdata = np.array([[ms.x, ms.y] for ms in measurements])\n"
   ]
  },
  {
   "cell_type": "code",
   "execution_count": 6,
   "metadata": {},
   "outputs": [
    {
     "data": {
      "text/plain": [
       "<matplotlib.collections.PathCollection at 0x7f9b370c9570>"
      ]
     },
     "execution_count": 6,
     "metadata": {},
     "output_type": "execute_result"
    }
   ],
   "source": [
    "from filters.jpda import JPDACF\n",
    "import copy\n",
    "\n",
    "%matplotlib qt\n",
    "\n",
    "dt = 0.05\n",
    "jpdaf = JPDACF(np.array([[0, 1, 30, 0], [0, 1, -30, 0]]), dt, 1)\n",
    "\n",
    "T = tmax\n",
    "steps = int(T / dt)\n",
    "\n",
    "x1_k = []\n",
    "x2_k = []\n",
    "tspace = np.array([])\n",
    "# msrmts = copy.deepcopy(measurements)\n",
    "t = 0\n",
    "for i in range(steps):\n",
    "    t += dt\n",
    "\n",
    "    jpdaf.predict()\n",
    "    x1_k.append(jpdaf.positions[0])\n",
    "    x2_k.append(jpdaf.positions[1])\n",
    "\n",
    "    tspace = np.append(tspace, t)\n",
    "\n",
    "\n",
    "# msdata = np.array([[ms.x, ms.y, ms.t] for ms in measurements])\n",
    "x1 = np.array(x1_k)[:, 0]\n",
    "y1 = np.array(x1_k)[:, 1]\n",
    "x2 = np.array(x2_k)[:, 0]\n",
    "y2 = np.array(x2_k)[:, 1]\n",
    "\n",
    "plt.figure()\n",
    "plt.scatter(x1, y1, color='red')\n",
    "plt.scatter(x2, y2, color='green')\n",
    "# plt.scatter(msdata[:, 0], msdata[:, 1], color='blue', s=5)\n",
    "# data = np.array([path.pos(t) for t in np.linspace(0, T, 150)])\n",
    "# plt.plot(data[:, 0], data[:, 1], color='green')\n"
   ]
  },
  {
   "cell_type": "code",
   "execution_count": 4,
   "metadata": {},
   "outputs": [
    {
     "ename": "NameError",
     "evalue": "name 'tmax' is not defined",
     "output_type": "error",
     "traceback": [
      "\u001b[0;31m---------------------------------------------------------------------------\u001b[0m",
      "\u001b[0;31mNameError\u001b[0m                                 Traceback (most recent call last)",
      "\u001b[1;32m/home/lucas/Documents/DanaDynamics/python/RadarSimulator/radarsim.ipynb Cell 5'\u001b[0m in \u001b[0;36m<cell line: 9>\u001b[0;34m()\u001b[0m\n\u001b[1;32m      <a href='vscode-notebook-cell:/home/lucas/Documents/DanaDynamics/python/RadarSimulator/radarsim.ipynb#ch0000004?line=5'>6</a>\u001b[0m kf \u001b[39m=\u001b[39m KalmanFilter(np\u001b[39m.\u001b[39marray([\u001b[39m0\u001b[39m, \u001b[39m1\u001b[39m, \u001b[39m0\u001b[39m, \u001b[39m0\u001b[39m, \u001b[39m0\u001b[39m, \u001b[39m0\u001b[39m]), \u001b[39m0.1\u001b[39m)\n\u001b[1;32m      <a href='vscode-notebook-cell:/home/lucas/Documents/DanaDynamics/python/RadarSimulator/radarsim.ipynb#ch0000004?line=7'>8</a>\u001b[0m dt \u001b[39m=\u001b[39m \u001b[39m0.05\u001b[39m\n\u001b[0;32m----> <a href='vscode-notebook-cell:/home/lucas/Documents/DanaDynamics/python/RadarSimulator/radarsim.ipynb#ch0000004?line=8'>9</a>\u001b[0m T \u001b[39m=\u001b[39m tmax\n\u001b[1;32m     <a href='vscode-notebook-cell:/home/lucas/Documents/DanaDynamics/python/RadarSimulator/radarsim.ipynb#ch0000004?line=9'>10</a>\u001b[0m steps \u001b[39m=\u001b[39m \u001b[39mint\u001b[39m(T \u001b[39m/\u001b[39m dt)\n\u001b[1;32m     <a href='vscode-notebook-cell:/home/lucas/Documents/DanaDynamics/python/RadarSimulator/radarsim.ipynb#ch0000004?line=11'>12</a>\u001b[0m P_k \u001b[39m=\u001b[39m []\n",
      "\u001b[0;31mNameError\u001b[0m: name 'tmax' is not defined"
     ]
    },
    {
     "name": "stderr",
     "output_type": "stream",
     "text": [
      "QSocketNotifier: Can only be used with threads started with QThread\n"
     ]
    }
   ],
   "source": [
    "from filters.kalman import KalmanFilter\n",
    "import copy\n",
    "\n",
    "%matplotlib qt\n",
    "\n",
    "kf = KalmanFilter(np.array([0, 1, 0, 0, 0, 0]), 0.1)\n",
    "\n",
    "dt = 0.05\n",
    "T = tmax\n",
    "steps = int(T / dt)\n",
    "\n",
    "P_k = []\n",
    "x_k = []\n",
    "tspace = np.array([])\n",
    "msrmts = copy.deepcopy(measurements)\n",
    "t = 0\n",
    "for i in range(steps):\n",
    "    t += dt\n",
    "\n",
    "    kf.predict(dt)\n",
    "    P_k.append(kf.cov)\n",
    "    x_k.append(kf.prediction)\n",
    "\n",
    "    tspace = np.append(tspace, t)\n",
    "\n",
    "    if (i+1)*dt >= msrmts[0].t:\n",
    "        kf.update(np.array([msrmts[0].x, msrmts[0].y]), 1, 1)\n",
    "        P_k.append(kf.cov)\n",
    "        x_k.append(kf.prediction)\n",
    "        tspace = np.append(tspace, msrmts[0].t)\n",
    "        t = msrmts[0].t\n",
    "        msrmts.pop(0)\n",
    "        if len(msrmts) == 0:\n",
    "            break\n",
    "\n",
    "msdata = np.array([[ms.x, ms.y, ms.t] for ms in measurements])\n",
    "x = np.array(x_k)[:, 0]\n",
    "y = np.array(x_k)[:, 3]\n",
    "\n",
    "plt.figure()\n",
    "plt.subplot(2, 2, (1, 2))\n",
    "plt.plot(x, y, color='red')\n",
    "plt.scatter(x, y, color='red')\n",
    "plt.scatter(msdata[:, 0], msdata[:, 1], color='blue', s=8)\n",
    "data = np.array([path.pos(t) for t in np.linspace(0, T, 150)])\n",
    "plt.plot(data[:, 0], data[:, 1], color='green')\n",
    "\n",
    "Px = np.array(P_k)[:, 0, 0]\n",
    "Py = np.array(P_k)[:, 3, 3]\n",
    "plt.subplot(2, 2, (3))\n",
    "plt.grid(True)\n",
    "plt.plot(tspace, x, color='red')\n",
    "plt.scatter(tspace, x, color='red', s=5)\n",
    "plt.scatter(msdata[:, 2], msdata[:, 0], color='blue', s=8)\n",
    "data = np.array([path.pos(t) for t in np.linspace(0, T, 150)])\n",
    "plt.plot(np.linspace(0, T/dt, 150)*dt, data[:, 0], color='purple')\n",
    "\n",
    "\n",
    "plt.show()\n",
    "plt.subplot(2, 2, (4))\n",
    "plt.plot(tspace, y, color='red')\n",
    "plt.scatter(msdata[:, 2], msdata[:, 1], color='blue', s=8)\n",
    "plt.plot(np.linspace(0, T/dt, 150)*dt, data[:, 1], color='purple')\n"
   ]
  },
  {
   "cell_type": "code",
   "execution_count": 71,
   "metadata": {},
   "outputs": [
    {
     "name": "stdout",
     "output_type": "stream",
     "text": [
      "Time elapsed:  1.2731210808300237\n"
     ]
    }
   ],
   "source": [
    "\n",
    "import timeit\n",
    "import numpy as np\n",
    "from filters.jpda import Cluster, Track, Measurement, build_clusters, track_betas\n",
    "\n",
    "%autoreload 2\n",
    "\n",
    "P = np.eye(4)\n",
    "R = np.diag([1, 1])\n",
    "H = np.array([[1, 0, 0, 0], [0, 0, 1, 0]])\n",
    "\n",
    "x1 = np.array([-20.8, 0, 0, 0])\n",
    "x2 = np.array([-20, 0, 0, 0])\n",
    "x3 = np.array([-22, 0, 0.5, 0])\n",
    "\n",
    "m1 = Measurement(1, np.array([21, 0]))\n",
    "m2 = Measurement(2, np.array([-21, -2]))\n",
    "m3 = Measurement(3, np.array([18, 0]))\n",
    "m4 = Measurement(4, np.array([0, 0]))\n",
    "m5 = Measurement(5, np.array([-19, 0]))\n",
    "m6 = Measurement(6, np.array([-20, 0.5]))\n",
    "\n",
    "t1 = Track(x1, P, H, R)\n",
    "t2 = Track(x2, P, H, R)\n",
    "t3 = Track(x3, P, H, R)\n",
    "\n",
    "\n",
    "t1.measurement_selection([m1, m2, m3, m4, m5, m6], 4)\n",
    "t2.measurement_selection([m1, m2, m3, m4, m5, m6], 4)\n",
    "t3.measurement_selection([m1, m2, m3, m4, m5, m6], 4)\n",
    "\n",
    "# print(t1.mts_likelihoods)\n",
    "# print(t2.mts_likelihoods)\n",
    "# print(t3.mts_likelihoods)\n",
    "\n",
    "# print(t1.mts_likelihoods)\n",
    "# print(t2.mts_likelihoods)\n",
    "# print(t3.mts_likelihoods)\n",
    "\n",
    "# print(t1.sel_mts_indices)\n",
    "# print(t1.sel_mts)\n",
    "# print(t2.sel_mts_indices)\n",
    "# print(t2.sel_mts)\n",
    "\n",
    "clusters = build_clusters([t1, t2, t3])\n",
    "# print('number of clusters: ', len(clusters))\n",
    "# print(clusters[1].mts_indices)\n",
    "# print(clusters[0].mts_indices)\n",
    "# print(len(clusters[0].tracks))\n",
    "\n",
    "for clus in clusters:\n",
    "    track_betas(clus.tracks)\n"
   ]
  },
  {
   "cell_type": "code",
   "execution_count": 27,
   "metadata": {},
   "outputs": [
    {
     "name": "stdout",
     "output_type": "stream",
     "text": [
      "[]\n",
      "[2]\n"
     ]
    }
   ],
   "source": [
    "# iu = [1, 2, 3, 4]\n",
    "# O = [[0, 1, 3, 4], [0, 2, 3], [0, 1, 2, 4], [0, 1, 2, 3, 4]]\n",
    "O = [{0,1,2,3,4}]\n",
    "tau = 0\n",
    "i = 2\n",
    "\n",
    "Oc = O.copy()\n",
    "Oc.pop(tau)\n",
    "used = [] if i == 0 else [i]\n",
    "if 0 in used:\n",
    "    used.remove(0)\n",
    "print(Oc)\n",
    "print(used)\n",
    "\n",
    "\n",
    "def enumerate_events(v, M, u, d, E):\n",
    "    print(d, len(M))\n",
    "    if (d) is (len(M)):\n",
    "        E.append(v)\n",
    "        return\n",
    "\n",
    "    for i in M[d]:\n",
    "        if i not in u:\n",
    "            vnew = v.copy()\n",
    "            vnew.append(i)\n",
    "            unew = u.copy()\n",
    "            if i != 0:\n",
    "                unew.append(i)\n",
    "            enumerate_events(vnew, M, unew, d+1, E)\n"
   ]
  },
  {
   "cell_type": "code",
   "execution_count": 28,
   "metadata": {},
   "outputs": [
    {
     "name": "stdout",
     "output_type": "stream",
     "text": [
      "0 0\n",
      "[[2]]\n",
      "1\n"
     ]
    }
   ],
   "source": [
    "events = []\n",
    "enumerate_events([], Oc, used, 0, events)\n",
    "for e in events:\n",
    "    e.insert(tau, i)\n",
    "print(events)\n",
    "print(len(events))"
   ]
  },
  {
   "cell_type": "code",
   "execution_count": null,
   "metadata": {},
   "outputs": [],
   "source": []
  },
  {
   "cell_type": "markdown",
   "metadata": {},
   "source": []
  }
 ],
 "metadata": {
  "kernelspec": {
   "display_name": "Python 3.8.10 ('venv')",
   "language": "python",
   "name": "python3"
  },
  "language_info": {
   "codemirror_mode": {
    "name": "ipython",
    "version": 3
   },
   "file_extension": ".py",
   "mimetype": "text/x-python",
   "name": "python",
   "nbconvert_exporter": "python",
   "pygments_lexer": "ipython3",
   "version": "3.10.4"
  },
  "orig_nbformat": 4,
  "vscode": {
   "interpreter": {
    "hash": "427ba7c3489430af1ebb774cd5c90a271fb970d0790804f62f670d1e7d211a7f"
   }
  }
 },
 "nbformat": 4,
 "nbformat_minor": 2
}
